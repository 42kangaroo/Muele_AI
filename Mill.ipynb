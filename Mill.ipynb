{
 "cells": [
  {
   "cell_type": "markdown",
   "metadata": {
    "collapsed": true,
    "pycharm": {
     "name": "#%% md\n"
    }
   },
   "source": [
    "## Projektarbeit Mühle"
   ]
  },
  {
   "cell_type": "markdown",
   "source": [
    "### Imports"
   ],
   "metadata": {
    "collapsed": false,
    "pycharm": {
     "name": "#%% md\n"
    }
   }
  },
  {
   "cell_type": "code",
   "execution_count": 1,
   "outputs": [],
   "source": [
    "import PySimpleGUI as psGui\n",
    "import matplotlib.pyplot as plt\n",
    "import numpy as np\n",
    "import time\n",
    "import copy\n",
    "from tensorflow import keras\n",
    "import tensorflow as tf\n",
    "import datetime as dt\n",
    "import random\n",
    "import sklearn.preprocessing as pre"
   ],
   "metadata": {
    "collapsed": false,
    "pycharm": {
     "name": "#%%\n"
    }
   }
  },
  {
   "cell_type": "markdown",
   "source": [
    "### Class definitions"
   ],
   "metadata": {
    "collapsed": false
   }
  },
  {
   "cell_type": "markdown",
   "source": [
    "#### Environment"
   ],
   "metadata": {
    "collapsed": false
   }
  },
  {
   "cell_type": "code",
   "execution_count": 23,
   "outputs": [],
   "source": [
    "class MillEnv(object):\n",
    "    def __init__(self):\n",
    "        self.isPlaying: int = 1\n",
    "        self.gamePhase: list = [0,0]\n",
    "        self.moveNeeded: int = 0\n",
    "        self.inHand: list = [9,9]\n",
    "        self.onBoard: list = [0,0]\n",
    "        self.checkerPositions: list = [[],[]]\n",
    "        self.selected: int = -1\n",
    "        self.board: np.ndarray = np.zeros(24)\n",
    "        self.winner = 0\n",
    "        self.columns: np.ndarray = np.array([[0,1,2],\n",
    "                        [3,4,5],\n",
    "                        [6,7,8],\n",
    "                        [9,10,11],\n",
    "                        [12,13,14],\n",
    "                        [15,16,17],\n",
    "                        [18,19,20],\n",
    "                        [21,22,23],\n",
    "                        [0,9,21],\n",
    "                        [3,10,18],\n",
    "                        [6,11,15],\n",
    "                        [1,4,7],\n",
    "                        [16,19,22],\n",
    "                        [8,12,17],\n",
    "                        [5,13,20],\n",
    "                        [2,14,23],\n",
    "                        ])\n",
    "    def makeMove(self, move: int) -> bool:\n",
    "        valid: bool = False\n",
    "        last_state: tuple = self.getSummary(self.isPlaying)\n",
    "        last_player: int = self.isPlaying\n",
    "        if self.moveNeeded == 0: # Set Checker on position\n",
    "            if self.board[move] == 0:\n",
    "                self.board[move] = self.isPlaying\n",
    "                self.checkerPositions[1 if self.isPlaying == 1 else 0].append(move)\n",
    "                valid = True\n",
    "                self.isPlaying = -self.isPlaying\n",
    "                if self.gamePhase[1 if self.isPlaying == 1 else 0] == 2:\n",
    "                    self.board[self.selected] = 0\n",
    "                    self.moveNeeded = 1\n",
    "                    self.checkerPositions[1 if self.isPlaying == 1 else 0].remove(self.selected)\n",
    "                else:\n",
    "                    self.inHand[1 if self.isPlaying == 1 else 0] -= 1\n",
    "                    self.onBoard[1 if self.isPlaying == 1 else 0] += 1\n",
    "                if np.array(self.inHand).sum() == 0:\n",
    "                    self.gamePhase = [1,1]\n",
    "                    self.moveNeeded = 1\n",
    "        elif self.moveNeeded == 1: # choose checker to move\n",
    "            if self.board[move] == 1 * self.isPlaying and ~self.getMoveFields(move).all():\n",
    "                valid = True\n",
    "                self.selected = move\n",
    "                self.moveNeeded = 2\n",
    "        elif self.moveNeeded == 2: # move checker up, down, left or right\n",
    "            if self.getMoveFields(self.selected)[move] == 0:\n",
    "                idxToMove: np.ndarray = np.where(self.getInRows(self.selected) == self.selected)\n",
    "                valid = True\n",
    "                self.board[self.selected] = 0\n",
    "                self.checkerPositions[1 if self.isPlaying == 1 else 0].remove(self.selected)\n",
    "                if move == 0: # up\n",
    "                    self.board[self.getInRows(self.selected)[1][idxToMove[0][0]-1]] = self.isPlaying\n",
    "                    self.checkerPositions[1 if self.isPlaying == 1 else 0].append(self.getInRows(self.selected)[1][idxToMove[0][0]-1])\n",
    "                if move == 1: # right\n",
    "                    self.board[self.getInRows(self.selected)[0][idxToMove[1][0]+1]] = self.isPlaying\n",
    "                    self.checkerPositions[1 if self.isPlaying == 1 else 0].append(self.getInRows(self.selected)[0][idxToMove[1][0]+1])\n",
    "                if move == 2: # down\n",
    "                    self.board[self.getInRows(self.selected)[1][idxToMove[0][0]+1]] = self.isPlaying\n",
    "                    self.checkerPositions[1 if self.isPlaying == 1 else 0].append(self.getInRows(self.selected)[1][idxToMove[0][0]+1])\n",
    "                if move == 3: # left\n",
    "                    self.board[self.getInRows(self.selected)[0][idxToMove[1][0]-1]] = self.isPlaying\n",
    "                    self.checkerPositions[1 if self.isPlaying == 1 else 0].append(self.getInRows(self.selected)[0][idxToMove[1][0]-1])\n",
    "                self.moveNeeded = 1\n",
    "        elif self.moveNeeded == 3: # delete opponent checker\n",
    "            canDelete: bool = False\n",
    "            for pos in self.checkerPositions[1 if self.isPlaying == -1 else 0]:\n",
    "                if ~(abs(self.board[self.getInRows(move)].sum(axis=1)) == 3).any():\n",
    "                    canDelete = True\n",
    "                    valid = True\n",
    "                    if self.gamePhase[1 if self.isPlaying == -1 else 0] == 0:\n",
    "                        self.moveNeeded = 0\n",
    "                    elif self.gamePhase[1 if self.isPlaying == -1 else 0] == 1:\n",
    "                        self.moveNeeded = 1\n",
    "                    break\n",
    "            threeInChosenRow: np.ndarray = abs(self.board[self.getInRows(move)].sum(axis=1)) == 3\n",
    "            if self.board[move] == -1 * self.isPlaying and ~threeInChosenRow.any() and canDelete:\n",
    "                valid = True\n",
    "                self.board[move] = 0\n",
    "                self.checkerPositions[1 if self.isPlaying == -1 else 0].remove(move)\n",
    "                self.isPlaying = -self.isPlaying\n",
    "                self.onBoard[1 if self.isPlaying == -1 else 0] -= 1\n",
    "                if self.gamePhase[1 if self.isPlaying == -1 else 0] == 0:\n",
    "                    self.moveNeeded = 0\n",
    "                elif self.gamePhase[1 if self.isPlaying == -1 else 0] == 1:\n",
    "                    if self.onBoard[1 if self.isPlaying == -1 else 0] == 3:\n",
    "                        self.gamePhase[1 if self.isPlaying == -1 else 0] = 2\n",
    "                    self.moveNeeded = 1\n",
    "                elif self.gamePhase[1 if self.isPlaying == -1 else 0] == 2:\n",
    "                    self.gamePhase = 3\n",
    "                    self.winner = last_player\n",
    "        if last_state[0] < self.getSummary(last_player)[0]:\n",
    "            self.isPlaying = last_player\n",
    "            self.moveNeeded = 3\n",
    "        if self.gamePhase[1 if self.isPlaying == -1 else 0] == 1:\n",
    "            finished = True\n",
    "            for pos in self.checkerPositions[1 if self.isPlaying == -1 else 0]:\n",
    "                if self.getMoveFields(pos).any():\n",
    "                    finished = False\n",
    "                    break\n",
    "            if finished:\n",
    "                self.winner = last_player\n",
    "                self.gamePhase = 3\n",
    "        return valid\n",
    "    def isFinished(self):\n",
    "        return self.winner\n",
    "    def getBoard(self) -> np.ndarray:\n",
    "        return copy.deepcopy(self.board)\n",
    "    def getInRows(self, pos: int) -> np.ndarray:\n",
    "        arrayPos: np.ndarray = self.columns == pos\n",
    "        return self.columns[arrayPos.any(axis=1)]\n",
    "    def reset(self):\n",
    "        self.board = np.zeros(24)\n",
    "        self.isPlaying = 1\n",
    "    def getSummary(self, player: int) -> (int, int, int, int):\n",
    "        numTwoPlayerActual: int = 0\n",
    "        numTwoPlayerOpponent: int = 0\n",
    "        numThreePlayerActual: int = 0\n",
    "        numThreePlayerOpponent: int = 0\n",
    "        for column in self.columns:\n",
    "            columnSum: int = self.board[column[0]] + self.board[column[1]] + self.board[column[2]]\n",
    "            if columnSum == -2 * player:\n",
    "                numTwoPlayerOpponent += 1\n",
    "            elif columnSum  == 2 * player:\n",
    "                numTwoPlayerActual += 1\n",
    "            elif columnSum == -3 * player:\n",
    "                numTwoPlayerOpponent += 1\n",
    "            elif columnSum == 3 * player:\n",
    "                numThreePlayerActual += 1\n",
    "        return numThreePlayerActual, numThreePlayerOpponent, numTwoPlayerActual, numTwoPlayerOpponent\n",
    "    def getMoveFields(self, pos: int) -> np.ndarray:\n",
    "        moveFields: np.ndarray = np.zeros(4)\n",
    "        chosenRows: np.ndarray = self.getInRows(pos)\n",
    "        idx: np.ndarray = np.where(chosenRows == pos)\n",
    "        if idx[1][0] != 1:\n",
    "            if idx[1][0] == 0:\n",
    "                moveFields[3] = 2\n",
    "                moveFields[1] = self.board[chosenRows[0][1]]\n",
    "            elif idx[1][0] == 2:\n",
    "                moveFields[1] = 2\n",
    "                moveFields[3] = self.board[chosenRows[0][1]]\n",
    "        else:\n",
    "            moveFields[3] = self.board[chosenRows[0][0]]\n",
    "            moveFields[1] = self.board[chosenRows[0][1]]\n",
    "        if idx[0][0] != 1:\n",
    "            if idx[0][0] == 0:\n",
    "                moveFields[0] = 2\n",
    "                moveFields[2] = self.board[chosenRows[1][1]]\n",
    "            elif idx[0][0] == 2:\n",
    "                moveFields[2] = 2\n",
    "                moveFields[0] = self.board[chosenRows[1][1]]\n",
    "        else:\n",
    "            moveFields[0] = self.board[chosenRows[1][0]]\n",
    "            moveFields[2] = self.board[chosenRows[1][1]]\n",
    "        return moveFields\n"
   ],
   "metadata": {
    "collapsed": false,
    "pycharm": {
     "name": "#%%\n"
    }
   }
  },
  {
   "cell_type": "markdown",
   "source": [
    "#### Agent"
   ],
   "metadata": {
    "collapsed": false,
    "pycharm": {
     "name": "#%% md\n"
    }
   }
  },
  {
   "cell_type": "code",
   "execution_count": 3,
   "outputs": [],
   "source": [
    "class Agent(object):\n",
    "    def getPos(self, state: np.ndarray, temp: float, moveNeeded: int,network:keras.models.Model=None) -> np.ndarray:\n",
    "        if network is None:\n",
    "            if moveNeeded == 2:\n",
    "                return np.random.randint(0,4)\n",
    "            else:\n",
    "                return np.random.randint(0,24)\n",
    "        softmaxed_output = keras.backend.softmax(network(state.reshape(1,-1))/ temp)\n",
    "        action_value = np.random.choice(np.array(softmaxed_output[0]), p= np.array(softmaxed_output[0]))\n",
    "        pos: np.ndarray = np.argmax(softmaxed_output[0] == action_value)\n",
    "        return pos"
   ],
   "metadata": {
    "collapsed": false,
    "pycharm": {
     "name": "#%%\n"
    }
   }
  },
  {
   "cell_type": "markdown",
   "source": [
    "### Tests"
   ],
   "metadata": {
    "collapsed": false
   }
  },
  {
   "cell_type": "markdown",
   "source": [
    "#### Environment"
   ],
   "metadata": {
    "collapsed": false,
    "pycharm": {
     "name": "#%% md\n"
    }
   }
  },
  {
   "cell_type": "code",
   "execution_count": 24,
   "outputs": [
    {
     "name": "stdout",
     "output_type": "stream",
     "text": [
      "[[ 0  1  2]\n",
      " [ 2 14 23]]\n",
      "[ 1.  1.  1. -1. -1.  0.  0.  0.  0.  0.  0.  0.  0.  0.  0.  0.  0.  0.\n",
      "  0.  0.  0.  0.  0.  0.]\n",
      "3\n",
      "False\n",
      "(array([0, 1]), array([1, 0]))\n",
      "[2. 2. 0. 1.]\n",
      "(1, 0, 0, 1)\n"
     ]
    }
   ],
   "source": [
    "env = MillEnv()\n",
    "print(env.getInRows(2))\n",
    "\n",
    "env.makeMove(0)\n",
    "env.makeMove(3)\n",
    "env.makeMove(2)\n",
    "env.makeMove(4)\n",
    "env.makeMove(1)\n",
    "print(env.getBoard())\n",
    "print(env.moveNeeded)\n",
    "ThreeInChosenRow = abs(env.board[env.getInRows(0)].sum(axis=1)) == 3\n",
    "print(~ThreeInChosenRow.any())\n",
    "print(np.where(env.getInRows(1) == 1))\n",
    "print(env.getMoveFields(2))\n",
    "print(env.getSummary(1))"
   ],
   "metadata": {
    "collapsed": false,
    "pycharm": {
     "name": "#%%\n"
    }
   }
  },
  {
   "cell_type": "markdown",
   "source": [
    "#### Agent"
   ],
   "metadata": {
    "collapsed": false
   }
  },
  {
   "cell_type": "code",
   "execution_count": 28,
   "outputs": [
    {
     "name": "stdout",
     "output_type": "stream",
     "text": [
      "[ 0.  0.  1.  0. -1.  1.  1.  0.  1. -1. -1. -1.  0.  0.  1.  1.  0.  0.\n",
      " -1.  0. -1.  0.  0.  0.]\n",
      "[ 0.  1.  1.  0. -1.  1.  0.  0.  1. -1. -1. -1.  0. -1.  1.  1.  0.  1.\n",
      " -1. -1. -1.  0.  0.  0.]\n",
      "[ 1.  1.  1.  0. -1.  1.  0.  0.  1. -1. -1. -1.  0. -1.  1.  1.  0.  0.\n",
      " -1. -1. -1.  0.  0.  0.]\n"
     ]
    },
    {
     "ename": "KeyboardInterrupt",
     "evalue": "",
     "output_type": "error",
     "traceback": [
      "\u001B[0;31m---------------------------------------------------------------------------\u001B[0m",
      "\u001B[0;31mKeyboardInterrupt\u001B[0m                         Traceback (most recent call last)",
      "\u001B[0;32m<ipython-input-28-0ffc21b2e0b2>\u001B[0m in \u001B[0;36m<module>\u001B[0;34m\u001B[0m\n\u001B[1;32m      3\u001B[0m \u001B[0menv\u001B[0m\u001B[0;34m.\u001B[0m\u001B[0mreset\u001B[0m\u001B[0;34m(\u001B[0m\u001B[0;34m)\u001B[0m\u001B[0;34m\u001B[0m\u001B[0;34m\u001B[0m\u001B[0m\n\u001B[1;32m      4\u001B[0m \u001B[0;32mwhile\u001B[0m \u001B[0menv\u001B[0m\u001B[0;34m.\u001B[0m\u001B[0misFinished\u001B[0m\u001B[0;34m(\u001B[0m\u001B[0;34m)\u001B[0m \u001B[0;34m==\u001B[0m \u001B[0;36m0\u001B[0m\u001B[0;34m:\u001B[0m\u001B[0;34m\u001B[0m\u001B[0;34m\u001B[0m\u001B[0m\n\u001B[0;32m----> 5\u001B[0;31m     \u001B[0mvalid\u001B[0m \u001B[0;34m=\u001B[0m \u001B[0menv\u001B[0m\u001B[0;34m.\u001B[0m\u001B[0mmakeMove\u001B[0m\u001B[0;34m(\u001B[0m\u001B[0mag\u001B[0m\u001B[0;34m.\u001B[0m\u001B[0mgetPos\u001B[0m\u001B[0;34m(\u001B[0m\u001B[0menv\u001B[0m\u001B[0;34m.\u001B[0m\u001B[0mgetBoard\u001B[0m\u001B[0;34m(\u001B[0m\u001B[0;34m)\u001B[0m\u001B[0;34m,\u001B[0m \u001B[0;36m0\u001B[0m\u001B[0;34m,\u001B[0m \u001B[0menv\u001B[0m\u001B[0;34m.\u001B[0m\u001B[0mmoveNeeded\u001B[0m\u001B[0;34m)\u001B[0m\u001B[0;34m)\u001B[0m\u001B[0;34m\u001B[0m\u001B[0;34m\u001B[0m\u001B[0m\n\u001B[0m\u001B[1;32m      6\u001B[0m     \u001B[0;32mif\u001B[0m \u001B[0menv\u001B[0m\u001B[0;34m.\u001B[0m\u001B[0mmoveNeeded\u001B[0m \u001B[0;34m==\u001B[0m \u001B[0;36m3\u001B[0m \u001B[0;32mand\u001B[0m \u001B[0mvalid\u001B[0m\u001B[0;34m:\u001B[0m\u001B[0;34m\u001B[0m\u001B[0;34m\u001B[0m\u001B[0m\n\u001B[1;32m      7\u001B[0m         \u001B[0mprint\u001B[0m\u001B[0;34m(\u001B[0m\u001B[0menv\u001B[0m\u001B[0;34m.\u001B[0m\u001B[0mgetBoard\u001B[0m\u001B[0;34m(\u001B[0m\u001B[0;34m)\u001B[0m\u001B[0;34m)\u001B[0m\u001B[0;34m\u001B[0m\u001B[0;34m\u001B[0m\u001B[0m\n",
      "\u001B[0;32m<ipython-input-23-d359fb106c85>\u001B[0m in \u001B[0;36mmakeMove\u001B[0;34m(self, move)\u001B[0m\n\u001B[1;32m     48\u001B[0m                     \u001B[0mself\u001B[0m\u001B[0;34m.\u001B[0m\u001B[0mmoveNeeded\u001B[0m \u001B[0;34m=\u001B[0m \u001B[0;36m1\u001B[0m\u001B[0;34m\u001B[0m\u001B[0;34m\u001B[0m\u001B[0m\n\u001B[1;32m     49\u001B[0m         \u001B[0;32melif\u001B[0m \u001B[0mself\u001B[0m\u001B[0;34m.\u001B[0m\u001B[0mmoveNeeded\u001B[0m \u001B[0;34m==\u001B[0m \u001B[0;36m1\u001B[0m\u001B[0;34m:\u001B[0m \u001B[0;31m# choose checker to move\u001B[0m\u001B[0;34m\u001B[0m\u001B[0;34m\u001B[0m\u001B[0m\n\u001B[0;32m---> 50\u001B[0;31m             \u001B[0;32mif\u001B[0m \u001B[0mself\u001B[0m\u001B[0;34m.\u001B[0m\u001B[0mboard\u001B[0m\u001B[0;34m[\u001B[0m\u001B[0mmove\u001B[0m\u001B[0;34m]\u001B[0m \u001B[0;34m==\u001B[0m \u001B[0;36m1\u001B[0m \u001B[0;34m*\u001B[0m \u001B[0mself\u001B[0m\u001B[0;34m.\u001B[0m\u001B[0misPlaying\u001B[0m \u001B[0;32mand\u001B[0m \u001B[0;34m~\u001B[0m\u001B[0mself\u001B[0m\u001B[0;34m.\u001B[0m\u001B[0mgetMoveFields\u001B[0m\u001B[0;34m(\u001B[0m\u001B[0mmove\u001B[0m\u001B[0;34m)\u001B[0m\u001B[0;34m.\u001B[0m\u001B[0mall\u001B[0m\u001B[0;34m(\u001B[0m\u001B[0;34m)\u001B[0m\u001B[0;34m:\u001B[0m\u001B[0;34m\u001B[0m\u001B[0;34m\u001B[0m\u001B[0m\n\u001B[0m\u001B[1;32m     51\u001B[0m                 \u001B[0mvalid\u001B[0m \u001B[0;34m=\u001B[0m \u001B[0;32mTrue\u001B[0m\u001B[0;34m\u001B[0m\u001B[0;34m\u001B[0m\u001B[0m\n\u001B[1;32m     52\u001B[0m                 \u001B[0mself\u001B[0m\u001B[0;34m.\u001B[0m\u001B[0mselected\u001B[0m \u001B[0;34m=\u001B[0m \u001B[0mmove\u001B[0m\u001B[0;34m\u001B[0m\u001B[0;34m\u001B[0m\u001B[0m\n",
      "\u001B[0;32m<ipython-input-23-d359fb106c85>\u001B[0m in \u001B[0;36mgetMoveFields\u001B[0;34m(self, pos)\u001B[0m\n\u001B[1;32m    139\u001B[0m     \u001B[0;32mdef\u001B[0m \u001B[0mgetMoveFields\u001B[0m\u001B[0;34m(\u001B[0m\u001B[0mself\u001B[0m\u001B[0;34m,\u001B[0m \u001B[0mpos\u001B[0m\u001B[0;34m:\u001B[0m \u001B[0mint\u001B[0m\u001B[0;34m)\u001B[0m \u001B[0;34m->\u001B[0m \u001B[0mnp\u001B[0m\u001B[0;34m.\u001B[0m\u001B[0mndarray\u001B[0m\u001B[0;34m:\u001B[0m\u001B[0;34m\u001B[0m\u001B[0;34m\u001B[0m\u001B[0m\n\u001B[1;32m    140\u001B[0m         \u001B[0mmoveFields\u001B[0m\u001B[0;34m:\u001B[0m \u001B[0mnp\u001B[0m\u001B[0;34m.\u001B[0m\u001B[0mndarray\u001B[0m \u001B[0;34m=\u001B[0m \u001B[0mnp\u001B[0m\u001B[0;34m.\u001B[0m\u001B[0mzeros\u001B[0m\u001B[0;34m(\u001B[0m\u001B[0;36m4\u001B[0m\u001B[0;34m)\u001B[0m\u001B[0;34m\u001B[0m\u001B[0;34m\u001B[0m\u001B[0m\n\u001B[0;32m--> 141\u001B[0;31m         \u001B[0mchosenRows\u001B[0m\u001B[0;34m:\u001B[0m \u001B[0mnp\u001B[0m\u001B[0;34m.\u001B[0m\u001B[0mndarray\u001B[0m \u001B[0;34m=\u001B[0m \u001B[0mself\u001B[0m\u001B[0;34m.\u001B[0m\u001B[0mgetInRows\u001B[0m\u001B[0;34m(\u001B[0m\u001B[0mpos\u001B[0m\u001B[0;34m)\u001B[0m\u001B[0;34m\u001B[0m\u001B[0;34m\u001B[0m\u001B[0m\n\u001B[0m\u001B[1;32m    142\u001B[0m         \u001B[0midx\u001B[0m\u001B[0;34m:\u001B[0m \u001B[0mnp\u001B[0m\u001B[0;34m.\u001B[0m\u001B[0mndarray\u001B[0m \u001B[0;34m=\u001B[0m \u001B[0mnp\u001B[0m\u001B[0;34m.\u001B[0m\u001B[0mwhere\u001B[0m\u001B[0;34m(\u001B[0m\u001B[0mchosenRows\u001B[0m \u001B[0;34m==\u001B[0m \u001B[0mpos\u001B[0m\u001B[0;34m)\u001B[0m\u001B[0;34m\u001B[0m\u001B[0;34m\u001B[0m\u001B[0m\n\u001B[1;32m    143\u001B[0m         \u001B[0;32mif\u001B[0m \u001B[0midx\u001B[0m\u001B[0;34m[\u001B[0m\u001B[0;36m1\u001B[0m\u001B[0;34m]\u001B[0m\u001B[0;34m[\u001B[0m\u001B[0;36m0\u001B[0m\u001B[0;34m]\u001B[0m \u001B[0;34m!=\u001B[0m \u001B[0;36m1\u001B[0m\u001B[0;34m:\u001B[0m\u001B[0;34m\u001B[0m\u001B[0;34m\u001B[0m\u001B[0m\n",
      "\u001B[0;32m<ipython-input-23-d359fb106c85>\u001B[0m in \u001B[0;36mgetInRows\u001B[0;34m(self, pos)\u001B[0m\n\u001B[1;32m    117\u001B[0m     \u001B[0;32mdef\u001B[0m \u001B[0mgetInRows\u001B[0m\u001B[0;34m(\u001B[0m\u001B[0mself\u001B[0m\u001B[0;34m,\u001B[0m \u001B[0mpos\u001B[0m\u001B[0;34m:\u001B[0m \u001B[0mint\u001B[0m\u001B[0;34m)\u001B[0m \u001B[0;34m->\u001B[0m \u001B[0mnp\u001B[0m\u001B[0;34m.\u001B[0m\u001B[0mndarray\u001B[0m\u001B[0;34m:\u001B[0m\u001B[0;34m\u001B[0m\u001B[0;34m\u001B[0m\u001B[0m\n\u001B[1;32m    118\u001B[0m         \u001B[0marrayPos\u001B[0m\u001B[0;34m:\u001B[0m \u001B[0mnp\u001B[0m\u001B[0;34m.\u001B[0m\u001B[0mndarray\u001B[0m \u001B[0;34m=\u001B[0m \u001B[0mself\u001B[0m\u001B[0;34m.\u001B[0m\u001B[0mcolumns\u001B[0m \u001B[0;34m==\u001B[0m \u001B[0mpos\u001B[0m\u001B[0;34m\u001B[0m\u001B[0;34m\u001B[0m\u001B[0m\n\u001B[0;32m--> 119\u001B[0;31m         \u001B[0;32mreturn\u001B[0m \u001B[0mself\u001B[0m\u001B[0;34m.\u001B[0m\u001B[0mcolumns\u001B[0m\u001B[0;34m[\u001B[0m\u001B[0marrayPos\u001B[0m\u001B[0;34m.\u001B[0m\u001B[0many\u001B[0m\u001B[0;34m(\u001B[0m\u001B[0maxis\u001B[0m\u001B[0;34m=\u001B[0m\u001B[0;36m1\u001B[0m\u001B[0;34m)\u001B[0m\u001B[0;34m]\u001B[0m\u001B[0;34m\u001B[0m\u001B[0;34m\u001B[0m\u001B[0m\n\u001B[0m\u001B[1;32m    120\u001B[0m     \u001B[0;32mdef\u001B[0m \u001B[0mreset\u001B[0m\u001B[0;34m(\u001B[0m\u001B[0mself\u001B[0m\u001B[0;34m)\u001B[0m\u001B[0;34m:\u001B[0m\u001B[0;34m\u001B[0m\u001B[0;34m\u001B[0m\u001B[0m\n\u001B[1;32m    121\u001B[0m         \u001B[0mself\u001B[0m\u001B[0;34m.\u001B[0m\u001B[0mboard\u001B[0m \u001B[0;34m=\u001B[0m \u001B[0mnp\u001B[0m\u001B[0;34m.\u001B[0m\u001B[0mzeros\u001B[0m\u001B[0;34m(\u001B[0m\u001B[0;36m24\u001B[0m\u001B[0;34m)\u001B[0m\u001B[0;34m\u001B[0m\u001B[0;34m\u001B[0m\u001B[0m\n",
      "\u001B[0;31mKeyboardInterrupt\u001B[0m: "
     ]
    }
   ],
   "source": [
    "env = MillEnv()\n",
    "ag = Agent()\n",
    "env.reset()\n",
    "while env.isFinished() == 0:\n",
    "    valid = env.makeMove(ag.getPos(env.getBoard(), 0, env.moveNeeded))\n",
    "    if env.moveNeeded == 3 and valid:\n",
    "        print(env.getBoard())\n",
    "print(f\"Gewonnen hat {env.isFinished()}\")"
   ],
   "metadata": {
    "collapsed": false,
    "pycharm": {
     "name": "#%%\n"
    }
   }
  }
 ],
 "metadata": {
  "kernelspec": {
   "display_name": "Python 3",
   "language": "python",
   "name": "python3"
  },
  "language_info": {
   "codemirror_mode": {
    "name": "ipython",
    "version": 2
   },
   "file_extension": ".py",
   "mimetype": "text/x-python",
   "name": "python",
   "nbconvert_exporter": "python",
   "pygments_lexer": "ipython2",
   "version": "2.7.6"
  }
 },
 "nbformat": 4,
 "nbformat_minor": 0
}