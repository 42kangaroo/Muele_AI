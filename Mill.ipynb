{
 "cells": [
  {
   "cell_type": "markdown",
   "metadata": {
    "collapsed": true,
    "pycharm": {
     "name": "#%% md\n"
    }
   },
   "source": [
    "## Projektarbeit Mühle"
   ]
  },
  {
   "cell_type": "markdown",
   "source": [
    "### Imports"
   ],
   "metadata": {
    "collapsed": false,
    "pycharm": {
     "name": "#%% md\n"
    }
   }
  },
  {
   "cell_type": "code",
   "execution_count": null,
   "outputs": [],
   "source": [
    "import PySimpleGUI as psGui\n",
    "import matplotlib.pyplot as plt\n",
    "import numpy as np\n",
    "import time\n",
    "import copy\n",
    "from tensorflow import keras\n",
    "import tensorflow as tf\n",
    "import datetime as dt\n",
    "import random\n",
    "import sklearn.preprocessing as pre"
   ],
   "metadata": {
    "collapsed": false,
    "pycharm": {
     "name": "#%%\n"
    }
   }
  },
  {
   "cell_type": "markdown",
   "source": [
    "### Class definitions"
   ],
   "metadata": {
    "collapsed": false
   }
  },
  {
   "cell_type": "markdown",
   "source": [
    "#### Environment"
   ],
   "metadata": {
    "collapsed": false
   }
  },
  {
   "cell_type": "code",
   "execution_count": 85,
   "outputs": [],
   "source": [
    "class MillEnv(object):\n",
    "    def __init__(self):\n",
    "        self.isPlaying: int = 1\n",
    "        self.gamePhase: list = [0,0]\n",
    "        self.moveNeeded: int = 0\n",
    "        self.inHand: list = [9,9]\n",
    "        self.onBoard: list = [0,0]\n",
    "        self.checkerPositions: list = [[],[]]\n",
    "        self.selected: int = -1\n",
    "        self.board: np.ndarray = np.zeros(24)\n",
    "        self.winner = 0\n",
    "        self.columns: np.ndarray = np.array([[0,1,2],\n",
    "                        [3,4,5],\n",
    "                        [6,7,8],\n",
    "                        [9,10,11],\n",
    "                        [12,13,14],\n",
    "                        [15,16,17],\n",
    "                        [18,19,20],\n",
    "                        [21,22,23],\n",
    "                        [0,9,21],\n",
    "                        [3,10,18],\n",
    "                        [6,11,15],\n",
    "                        [1,4,7],\n",
    "                        [16,19,22],\n",
    "                        [8,12,17],\n",
    "                        [5,13,20],\n",
    "                        [2,14,23],\n",
    "                        ])\n",
    "    def makeMove(self, move: int) -> bool:\n",
    "        valid: bool = False\n",
    "        last_state: tuple = self.getSummary(self.isPlaying)\n",
    "        last_player: int = self.isPlaying\n",
    "        if self.moveNeeded == 0: # Set Checker on position\n",
    "            if self.board[move] == 0:\n",
    "                self.board[move] = self.isPlaying\n",
    "                self.checkerPositions[1 if self.isPlaying == 1 else 0].append(move)\n",
    "                valid = True\n",
    "                self.isPlaying = -self.isPlaying\n",
    "                if self.gamePhase[1 if self.isPlaying == 1 else 0] == 2:\n",
    "                    self.board[self.selected] = 0\n",
    "                    self.moveNeeded = 1\n",
    "                    self.checkerPositions[1 if self.isPlaying == 1 else 0].remove(self.selected)\n",
    "                else:\n",
    "                    self.inHand[1 if self.isPlaying == 1 else 0] -= 1\n",
    "                    self.onBoard[1 if self.isPlaying == 1 else 0] += 1\n",
    "                if np.array(self.inHand).sum() == 0:\n",
    "                    self.gamePhase = [1,1]\n",
    "                    self.moveNeeded = 1\n",
    "        elif self.moveNeeded == 1: # choose checker to move\n",
    "            if self.board[move] == 1 * self.isPlaying and ~(self.getMoveFields(move).all()):\n",
    "                valid = True\n",
    "                self.selected = move\n",
    "                if self.onBoard[1 if self.isPlaying == 1 else 0] == 3:\n",
    "                    self.moveNeeded = 0\n",
    "                else:\n",
    "                    self.moveNeeded = 2\n",
    "        elif self.moveNeeded == 2: # move checker up, down, left or right\n",
    "            if self.getMoveFields(self.selected)[move] == 0:\n",
    "                idxToMoveAxis: np.ndarray = np.where(self.getInRows(self.selected) == self.selected)\n",
    "                idxToMove = list(zip(idxToMoveAxis[1], idxToMoveAxis[0]))\n",
    "                order = idxToMove[0][1]\n",
    "                valid = True\n",
    "                self.board[self.selected] = 0\n",
    "                self.checkerPositions[1 if self.isPlaying == 1 else 0].remove(self.selected)\n",
    "                if move == 0: # up\n",
    "                    self.board[self.getInRows(self.selected)[1][idxToMove[abs(order-1)][0]-1]] = self.isPlaying\n",
    "                    self.checkerPositions[1 if self.isPlaying == 1 else 0].append(self.getInRows(self.selected)[1][idxToMove[abs(order-1)][0]-1])\n",
    "                if move == 1: # right\n",
    "                    self.board[self.getInRows(self.selected)[0][idxToMove[order][0]+1]] = self.isPlaying\n",
    "                    self.checkerPositions[1 if self.isPlaying == 1 else 0].append(self.getInRows(self.selected)[0][idxToMove[order][0]+1])\n",
    "                if move == 2: # down\n",
    "                    self.board[self.getInRows(self.selected)[1][idxToMove[abs(order-1)][0]+1]] = self.isPlaying\n",
    "                    self.checkerPositions[1 if self.isPlaying == 1 else 0].append(self.getInRows(self.selected)[1][idxToMove[abs(order-1)][0]+1])\n",
    "                if move == 3: # left\n",
    "                    self.board[self.getInRows(self.selected)[0][idxToMove[order][0]-1]] = self.isPlaying\n",
    "                    self.checkerPositions[1 if self.isPlaying == 1 else 0].append(self.getInRows(self.selected)[0][idxToMove[order][0]-1])\n",
    "                self.selected = -1\n",
    "                self.moveNeeded = 1\n",
    "                self.isPlaying = -self.isPlaying\n",
    "        elif self.moveNeeded == 3: # delete opponent checker\n",
    "            canDelete: bool = False\n",
    "            for pos in self.checkerPositions[1 if self.isPlaying == -1 else 0]:\n",
    "                if ~(abs(self.board[self.getInRows(move)].sum(axis=1)) == 3).any():\n",
    "                    canDelete = True\n",
    "                    valid = True\n",
    "                    if self.gamePhase[1 if self.isPlaying == -1 else 0] == 0:\n",
    "                        self.moveNeeded = 0\n",
    "                    elif self.gamePhase[1 if self.isPlaying == -1 else 0] == 1:\n",
    "                        self.moveNeeded = 1\n",
    "                    break\n",
    "            threeInChosenRow: np.ndarray = abs(self.board[self.getInRows(move)].sum(axis=1)) == 3\n",
    "            if self.board[move] == -1 * self.isPlaying and ~threeInChosenRow.any() and canDelete:\n",
    "                valid = True\n",
    "                self.board[move] = 0\n",
    "                self.checkerPositions[1 if self.isPlaying == -1 else 0].remove(move)\n",
    "                self.isPlaying = -self.isPlaying\n",
    "                self.onBoard[1 if self.isPlaying == -1 else 0] -= 1\n",
    "                if self.gamePhase[1 if self.isPlaying == -1 else 0] == 0:\n",
    "                    self.moveNeeded = 0\n",
    "                elif self.gamePhase[1 if self.isPlaying == -1 else 0] == 1:\n",
    "                    if self.onBoard[1 if self.isPlaying == -1 else 0] == 3:\n",
    "                        self.gamePhase[1 if self.isPlaying == -1 else 0] = 2\n",
    "                    self.moveNeeded = 1\n",
    "                elif self.gamePhase[1 if self.isPlaying == -1 else 0] == 2:\n",
    "                    self.gamePhase = 3\n",
    "                    self.winner = last_player\n",
    "        if last_state[0] < self.getSummary(last_player)[0]:\n",
    "            self.isPlaying = last_player\n",
    "            self.moveNeeded = 3\n",
    "        if self.gamePhase[1 if self.isPlaying == -1 else 0] == 1:\n",
    "            finished = True\n",
    "            for pos in self.checkerPositions[1 if self.isPlaying == -1 else 0]:\n",
    "                if ~(self.getMoveFields(pos).all()):\n",
    "                    finished = False\n",
    "                    break\n",
    "            if finished:\n",
    "                self.winner = last_player\n",
    "                self.gamePhase = 3\n",
    "        return valid\n",
    "    def isFinished(self):\n",
    "        return self.winner\n",
    "    def getBoard(self) -> np.ndarray:\n",
    "        return copy.deepcopy(self.board)\n",
    "    def getInRows(self, pos: int) -> np.ndarray:\n",
    "        arrayPos: np.ndarray = self.columns == pos\n",
    "        return self.columns[arrayPos.any(axis=1)]\n",
    "    def reset(self):\n",
    "        self.isPlaying: int = 1\n",
    "        self.gamePhase: list = [0,0]\n",
    "        self.moveNeeded: int = 0\n",
    "        self.inHand: list = [9,9]\n",
    "        self.onBoard: list = [0,0]\n",
    "        self.checkerPositions: list = [[],[]]\n",
    "        self.selected: int = -1\n",
    "        self.board: np.ndarray = np.zeros(24)\n",
    "        self.winner = 0\n",
    "    def getSummary(self, player: int) -> (int, int, int, int):\n",
    "        numTwoPlayerActual: int = 0\n",
    "        numTwoPlayerOpponent: int = 0\n",
    "        numThreePlayerActual: int = 0\n",
    "        numThreePlayerOpponent: int = 0\n",
    "        for column in self.columns:\n",
    "            columnSum: int = self.board[column[0]] + self.board[column[1]] + self.board[column[2]]\n",
    "            if columnSum == -2 * player:\n",
    "                numTwoPlayerOpponent += 1\n",
    "            elif columnSum  == 2 * player:\n",
    "                numTwoPlayerActual += 1\n",
    "            elif columnSum == -3 * player:\n",
    "                numTwoPlayerOpponent += 1\n",
    "            elif columnSum == 3 * player:\n",
    "                numThreePlayerActual += 1\n",
    "        return numThreePlayerActual, numThreePlayerOpponent, numTwoPlayerActual, numTwoPlayerOpponent\n",
    "    def getMoveFields(self, pos: int) -> np.ndarray:\n",
    "        moveFields: np.ndarray = np.zeros(4)\n",
    "        chosenRows: np.ndarray = self.getInRows(pos)\n",
    "        idxAxis: np.ndarray = np.where(chosenRows == pos)\n",
    "        idx = list(zip(idxAxis[1], idxAxis[0]))\n",
    "        order = idx[0][1]\n",
    "        if idx[order][0] != 1:\n",
    "            if idx[order][0] == 0:\n",
    "                moveFields[3] = 2\n",
    "                moveFields[1] = self.board[chosenRows[0][1]]\n",
    "            elif idx[order][0] == 2:\n",
    "                moveFields[1] = 2\n",
    "                moveFields[3] = self.board[chosenRows[0][1]]\n",
    "        else:\n",
    "            moveFields[3] = self.board[chosenRows[0][0]]\n",
    "            moveFields[1] = self.board[chosenRows[0][2]]\n",
    "        if idx[abs(order-1)][0] != 1:\n",
    "            if idx[abs(order-1)][0] == 0:\n",
    "                moveFields[0] = 2\n",
    "                moveFields[2] = self.board[chosenRows[1][1]]\n",
    "            elif idx[abs(order-1)][0] == 2:\n",
    "                moveFields[2] = 2\n",
    "                moveFields[0] = self.board[chosenRows[1][1]]\n",
    "        else:\n",
    "            moveFields[0] = self.board[chosenRows[1][0]]\n",
    "            moveFields[2] = self.board[chosenRows[1][2]]\n",
    "        return moveFields\n"
   ],
   "metadata": {
    "collapsed": false,
    "pycharm": {
     "name": "#%%\n"
    }
   }
  },
  {
   "cell_type": "markdown",
   "source": [
    "#### Agent"
   ],
   "metadata": {
    "collapsed": false,
    "pycharm": {
     "name": "#%% md\n"
    }
   }
  },
  {
   "cell_type": "code",
   "execution_count": null,
   "outputs": [],
   "source": [
    "class Agent(object):\n",
    "    def getPos(self, state: np.ndarray, temp: float, moveNeeded: int,network:keras.models.Model=None) -> np.ndarray:\n",
    "        if network is None:\n",
    "            if moveNeeded == 2:\n",
    "                return np.random.randint(0,4)\n",
    "            else:\n",
    "                return np.random.randint(0,24)\n",
    "        softmaxed_output = keras.backend.softmax(network(state.reshape(1,-1))/ temp)\n",
    "        action_value = np.random.choice(np.array(softmaxed_output[0]), p= np.array(softmaxed_output[0]))\n",
    "        pos: np.ndarray = np.argmax(softmaxed_output[0] == action_value)\n",
    "        return pos"
   ],
   "metadata": {
    "collapsed": false,
    "pycharm": {
     "name": "#%%\n"
    }
   }
  },
  {
   "cell_type": "markdown",
   "source": [
    "#### Graphics"
   ],
   "metadata": {
    "collapsed": false,
    "pycharm": {
     "name": "#%% md\n"
    }
   }
  },
  {
   "cell_type": "code",
   "execution_count": 39,
   "outputs": [],
   "source": [
    "class MillDisplayer(object):\n",
    "    def __init__(self, MillEnvironment: MillEnv = None):\n",
    "        psGui.theme(\"dark\")\n",
    "        self.millImage: str = \"MühleBrett.png\"\n",
    "        self.blackCheckerImage: str  = \"Schwarz.png\"\n",
    "        self.whiteCheckerImage: str = \"Weiss.png\"\n",
    "        self.millEnv: MillEnv = MillEnv()\n",
    "        if MillEnvironment is not None :\n",
    "            self.millEnv = MillEnvironment\n",
    "        self.ImageIDArray = np.array([])\n",
    "        self.imageLocations = [(10,490), (225, 490), (440, 490),\n",
    "                                (75,415), (225, 415), (375, 415),\n",
    "                                (150,340), (225, 340), (310, 340),\n",
    "                                (10,265), (75, 265), (150, 265),\n",
    "                                (310,265), (375, 265), (440, 265),\n",
    "                                (150,190), (225, 190), (310, 190),\n",
    "                                (75,115), (225, 115), (375, 115),\n",
    "                                (10,55), (225, 55), (440, 55)]\n",
    "        self.graph = psGui.Graph(\n",
    "                        canvas_size=(500, 500),\n",
    "                        graph_bottom_left=(0, 0),\n",
    "                        graph_top_right=(500, 500),\n",
    "                        )\n",
    "        self.statusTextBox = psGui.Text(\"Player \"+self.getPlayerName(self.millEnv.isPlaying)+\" is playing\", size=(50, 1))\n",
    "        self.layout_ = [[psGui.Button(\"Player vs. Player\"),psGui.Button(\"Player vs. Agent\"),psGui.Button(\"Agent vs. Agent\")],\n",
    "                        [self.statusTextBox],\n",
    "                       [self.graph],\n",
    "                       [psGui.Button(\"Close\")]]\n",
    "        self.window  = psGui.Window(\"Mill AI\", layout=self.layout_)\n",
    "        self.window.finalize()\n",
    "        self.graph.DrawImage(filename=self.millImage, location=(0,500))\n",
    "        self.activateClick()\n",
    "    def windowsLoop(self):\n",
    "        while True:\n",
    "            event, values = self.window.read()\n",
    "            if event == psGui.WIN_CLOSED or event == 'Close': # if user closes window or clicks cancel\n",
    "                break\n",
    "            elif not event == \"\":\n",
    "                self.reset()\n",
    "        self.window.close()\n",
    "    def makeMove(self, pos):\n",
    "        valid: bool = self.millEnv.makeMove(pos)\n",
    "        if valid:\n",
    "            self.reloadEnv()\n",
    "        return valid\n",
    "    def reloadEnv(self):\n",
    "        self.setStatus(\"Player \" + self.getPlayerName(self.millEnv.isPlaying) + \" is playing - move needed: \" + str(self.millEnv.moveNeeded))\n",
    "        for imageID in self.ImageIDArray:\n",
    "            self.graph.DeleteFigure(imageID)\n",
    "        np.delete(self.ImageIDArray, np.s_[:])\n",
    "        for case, location in zip(self.millEnv.getBoard(), self.imageLocations):\n",
    "            if case == 1:\n",
    "                self.ImageIDArray = np.append(self.ImageIDArray,self.graph.DrawImage(filename=self.blackCheckerImage, location=location))\n",
    "            elif case == -1:\n",
    "                self.ImageIDArray = np.append(self.ImageIDArray,self.graph.DrawImage(filename=self.whiteCheckerImage, location=location))\n",
    "        self.window.refresh()\n",
    "    def getClicked(self, event):\n",
    "        for index, location in enumerate(self.imageLocations):\n",
    "            x2, y2 = location\n",
    "            if self.isInArea(event.x, -event.y + 500, x2, y2, 50, 50):\n",
    "                return index\n",
    "        return -1\n",
    "    def setAfterClicked(self, event):\n",
    "        pos = self.getClicked(event)\n",
    "        print(\"clicked\")\n",
    "        if pos == -1:\n",
    "            return False\n",
    "        if self.millEnv.moveNeeded == 2:\n",
    "            dif = self.millEnv.selected - pos\n",
    "            if dif == -1:\n",
    "                pos = 1\n",
    "            elif dif == 1:\n",
    "                pos = 3\n",
    "            elif dif < 0:\n",
    "                pos = 2\n",
    "            elif dif > 0:\n",
    "                pos = 0\n",
    "        return self.makeMove(pos)\n",
    "    def isInArea(self, posX1, posY1, posX2, posY2, width, height):\n",
    "        if posX2 <= posX1 <= posX2 + width:\n",
    "            if posY2 >= posY1 >= posY2 - height:\n",
    "                return True\n",
    "        return False\n",
    "    def setStatus(self, status: str):\n",
    "        self.statusTextBox.Update(status)\n",
    "    def close(self):\n",
    "        self.window.close()\n",
    "    def activateClick(self):\n",
    "        self.graph.TKCanvas.bind(\"<Button-1>\",self.setAfterClicked)\n",
    "    def deactivateClick(self):\n",
    "        self.graph.TKCanvas.unbind(\"<Button-1>\")\n",
    "    def read(self, timout=False):\n",
    "        return self.window.read(1 if timout else None)\n",
    "    def reset(self):\n",
    "        self.millEnv.reset()\n",
    "        self.reloadEnv()\n",
    "    def getPlayerName(self, player):\n",
    "        if player == 1:\n",
    "            return \"black\"\n",
    "        elif player == -1:\n",
    "            return \"white\"\n",
    "        else:\n",
    "            return \"not a player\""
   ],
   "metadata": {
    "collapsed": false,
    "pycharm": {
     "name": "#%%\n"
    }
   }
  },
  {
   "cell_type": "markdown",
   "source": [
    "### Tests"
   ],
   "metadata": {
    "collapsed": false
   }
  },
  {
   "cell_type": "markdown",
   "source": [
    "#### Environment"
   ],
   "metadata": {
    "collapsed": false,
    "pycharm": {
     "name": "#%% md\n"
    }
   }
  },
  {
   "cell_type": "code",
   "execution_count": 80,
   "outputs": [
    {
     "name": "stdout",
     "output_type": "stream",
     "text": [
      "[[12 13 14]\n",
      " [ 2 14 23]]\n",
      "[ 1.  1.  1. -1. -1.  0.  0.  0.  0.  0.  0.  0.  0.  0.  0.  0.  0.  0.\n",
      "  0.  0.  0.  0.  0.  0.]\n",
      "3\n",
      "False\n",
      "[[False False  True]\n",
      " [False  True False]]\n",
      "[ 1.  0.  0. -1.]\n",
      "(1, 0, 0, 1)\n"
     ]
    }
   ],
   "source": [
    "env = MillEnv()\n",
    "print(env.getInRows(14))\n",
    "\n",
    "env.makeMove(0)\n",
    "env.makeMove(3)\n",
    "env.makeMove(2)\n",
    "env.makeMove(4)\n",
    "env.makeMove(1)\n",
    "print(env.getBoard())\n",
    "print(env.moveNeeded)\n",
    "ThreeInChosenRow = abs(env.board[env.getInRows(0)].sum(axis=1)) == 3\n",
    "print(~ThreeInChosenRow.any())\n",
    "print(env.getInRows(14) == 14)\n",
    "print(env.getMoveFields(4))\n",
    "print(env.getSummary(1))"
   ],
   "metadata": {
    "collapsed": false,
    "pycharm": {
     "name": "#%%\n"
    }
   }
  },
  {
   "cell_type": "markdown",
   "source": [
    "#### Agent"
   ],
   "metadata": {
    "collapsed": false
   }
  },
  {
   "cell_type": "code",
   "execution_count": null,
   "outputs": [],
   "source": [
    "env = MillEnv()\n",
    "ag = Agent()\n",
    "env.reset()\n",
    "while env.isFinished() == 0:\n",
    "    valid = env.makeMove(ag.getPos(env.getBoard(), 0, env.moveNeeded))\n",
    "    if env.moveNeeded == 3 and valid:\n",
    "        print(env.getBoard())\n",
    "print(f\"Gewonnen hat {env.isFinished()}\")"
   ],
   "metadata": {
    "collapsed": false,
    "pycharm": {
     "name": "#%%\n"
    }
   }
  },
  {
   "cell_type": "markdown",
   "source": [
    "#### Displayer"
   ],
   "metadata": {
    "collapsed": false
   }
  },
  {
   "cell_type": "code",
   "execution_count": 86,
   "outputs": [
    {
     "name": "stdout",
     "output_type": "stream",
     "text": [
      "clicked\n",
      "clicked\n",
      "clicked\n",
      "clicked\n",
      "clicked\n",
      "clicked\n",
      "clicked\n",
      "clicked\n",
      "clicked\n",
      "clicked\n",
      "clicked\n",
      "clicked\n",
      "clicked\n",
      "clicked\n",
      "clicked\n",
      "clicked\n",
      "clicked\n",
      "clicked\n",
      "clicked\n",
      "clicked\n",
      "clicked\n",
      "clicked\n",
      "clicked\n",
      "clicked\n",
      "clicked\n",
      "clicked\n",
      "clicked\n",
      "clicked\n",
      "clicked\n",
      "clicked\n",
      "clicked\n",
      "clicked\n",
      "clicked\n",
      "clicked\n",
      "clicked\n",
      "clicked\n",
      "clicked\n",
      "clicked\n",
      "clicked\n",
      "clicked\n",
      "clicked\n",
      "clicked\n",
      "clicked\n",
      "clicked\n",
      "clicked\n",
      "clicked\n",
      "clicked\n",
      "clicked\n",
      "clicked\n",
      "clicked\n",
      "clicked\n",
      "clicked\n",
      "clicked\n",
      "clicked\n",
      "clicked\n",
      "clicked\n",
      "clicked\n",
      "clicked\n",
      "clicked\n",
      "clicked\n",
      "clicked\n",
      "clicked\n",
      "clicked\n",
      "clicked\n",
      "clicked\n",
      "clicked\n",
      "clicked\n",
      "clicked\n",
      "clicked\n",
      "clicked\n",
      "clicked\n",
      "clicked\n"
     ]
    }
   ],
   "source": [
    "displayer = MillDisplayer()\n",
    "displayer.windowsLoop()"
   ],
   "metadata": {
    "collapsed": false,
    "pycharm": {
     "name": "#%%\n"
    }
   }
  }
 ],
 "metadata": {
  "kernelspec": {
   "display_name": "Python 3",
   "language": "python",
   "name": "python3"
  },
  "language_info": {
   "codemirror_mode": {
    "name": "ipython",
    "version": 2
   },
   "file_extension": ".py",
   "mimetype": "text/x-python",
   "name": "python",
   "nbconvert_exporter": "python",
   "pygments_lexer": "ipython2",
   "version": "2.7.6"
  }
 },
 "nbformat": 4,
 "nbformat_minor": 0
}