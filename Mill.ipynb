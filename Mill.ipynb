{
 "cells": [
  {
   "cell_type": "markdown",
   "metadata": {
    "collapsed": true,
    "pycharm": {
     "name": "#%% md\n"
    }
   },
   "source": [
    "## Projektarbeit Mühle"
   ]
  },
  {
   "cell_type": "markdown",
   "source": [
    "### Imports"
   ],
   "metadata": {
    "collapsed": false,
    "pycharm": {
     "name": "#%% md\n"
    }
   }
  },
  {
   "cell_type": "code",
   "execution_count": null,
   "outputs": [],
   "source": [
    "import PySimpleGUI as psGui\n",
    "import matplotlib.pyplot as plt\n",
    "import numpy as np\n",
    "import time\n",
    "import copy\n",
    "from tensorflow import keras\n",
    "import tensorflow as tf\n",
    "import datetime as dt\n",
    "import random\n",
    "import sklearn.preprocessing as pre"
   ],
   "metadata": {
    "collapsed": false,
    "pycharm": {
     "name": "#%%\n"
    }
   }
  },
  {
   "cell_type": "markdown",
   "source": [
    "### Class definitions"
   ],
   "metadata": {
    "collapsed": false,
    "pycharm": {
     "name": "#%% md\n"
    }
   }
  },
  {
   "cell_type": "markdown",
   "source": [
    "#### Environment"
   ],
   "metadata": {
    "collapsed": false,
    "pycharm": {
     "name": "#%% md\n"
    }
   }
  },
  {
   "cell_type": "code",
   "execution_count": null,
   "outputs": [],
   "source": [
    "class MillEnv(object):\n",
    "    def __init__(self):\n",
    "        self.isPlaying = 1\n",
    "        self.gamePhase = 0\n",
    "        self.inHand = [9,9]\n",
    "        self.onBoard = [0,0]\n",
    "        self.selcted = -1\n",
    "        self.board = np.zeros((0,24))\n",
    "        self.columns = [[0,1,2],\n",
    "                        [3,4,5],\n",
    "                        [6,7,8],\n",
    "                        [9,10,11],\n",
    "                        [12,13,14],\n",
    "                        [15,16,17],\n",
    "                        [18,19,20],\n",
    "                        [21,22,23],\n",
    "                        [0,9,21],\n",
    "                        [3,10,18],\n",
    "                        [6,11,15],\n",
    "                        [1,4,7],\n",
    "                        [16,19,22],\n",
    "                        [8,12,17],\n",
    "                        [5,13,20],\n",
    "                        [2,14,23],\n",
    "                        ]\n",
    "    def makeMove(self, player, pos):\n",
    "        valid = False\n",
    "        if self.gamePhase == 0:\n",
    "            if self.board[pos] == 0:\n",
    "                self.board[pos] = player\n",
    "                valid = True\n",
    "                self.isPlaying = -self.isPlaying\n",
    "                self.inHand[player] -= 1\n",
    "            if np.array(self.inHand).sum() == 0:\n",
    "                self.gamePhase = 1\n",
    "            return valid\n",
    "        if self.gamePhase == 1:\n",
    "            if self.board[pos] == 1 * player:\n",
    "                valid = True\n",
    "                self.selcted = pos\n",
    "                self.gamePhase = 2\n",
    "            return valid\n",
    "        return valid\n",
    "    def getBoard(self):\n",
    "        return copy.deepcopy(self.board)\n",
    "    def isFinisched(self):\n",
    "        for column in self.columns:\n",
    "            columnSum = self.board[column[0]] + self.board[column[1]] + self.board[column[2]]\n",
    "            if abs(columnSum) == 3:\n",
    "                return self.board[column[0]]\n",
    "        if self.board.all():\n",
    "            return 2\n",
    "        return 0\n",
    "    def reset(self):\n",
    "        self.board = np.zeros((0,24))\n",
    "        self.isPlaying = 1\n",
    "    def getSummary(self, player):\n",
    "        numTwoPlayerActual = 0\n",
    "        numTwoPlayerOpponent = 0\n",
    "        numFreeRows = 0\n",
    "        for column in self.columns:\n",
    "            columnSum = self.board[column[0]] + self.board[column[1]] + self.board[column[2]]\n",
    "            if columnSum == -2 * player:\n",
    "                numTwoPlayerOpponent += 1\n",
    "            elif columnSum  == 2 * player:\n",
    "                numTwoPlayerActual += 1\n",
    "            elif columnSum == 0 and self.board[column[0]] == self.board[column[1]]:\n",
    "                numFreeRows += 1\n",
    "        return numTwoPlayerActual, numTwoPlayerOpponent, numFreeRows, self.isFinisched() * player"
   ],
   "metadata": {
    "collapsed": false,
    "pycharm": {
     "name": "#%%\n"
    }
   }
  }
 ],
 "metadata": {
  "kernelspec": {
   "display_name": "Python 3",
   "language": "python",
   "name": "python3"
  },
  "language_info": {
   "codemirror_mode": {
    "name": "ipython",
    "version": 2
   },
   "file_extension": ".py",
   "mimetype": "text/x-python",
   "name": "python",
   "nbconvert_exporter": "python",
   "pygments_lexer": "ipython2",
   "version": "2.7.6"
  }
 },
 "nbformat": 4,
 "nbformat_minor": 0
}